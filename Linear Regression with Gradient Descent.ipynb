{
 "cells": [
  {
   "cell_type": "code",
   "execution_count": 10,
   "metadata": {},
   "outputs": [],
   "source": [
    "import pandas as pd\n",
    "import numpy as np\n",
    "import matplotlib.pyplot as plt"
   ]
  },
  {
   "cell_type": "code",
   "execution_count": 11,
   "metadata": {},
   "outputs": [
    {
     "data": {
      "text/html": [
       "<div>\n",
       "<style scoped>\n",
       "    .dataframe tbody tr th:only-of-type {\n",
       "        vertical-align: middle;\n",
       "    }\n",
       "\n",
       "    .dataframe tbody tr th {\n",
       "        vertical-align: top;\n",
       "    }\n",
       "\n",
       "    .dataframe thead th {\n",
       "        text-align: right;\n",
       "    }\n",
       "</style>\n",
       "<table border=\"1\" class=\"dataframe\">\n",
       "  <thead>\n",
       "    <tr style=\"text-align: right;\">\n",
       "      <th></th>\n",
       "      <th>RM</th>\n",
       "      <th>LSTAT</th>\n",
       "      <th>PTRATIO</th>\n",
       "      <th>MEDV</th>\n",
       "    </tr>\n",
       "  </thead>\n",
       "  <tbody>\n",
       "    <tr>\n",
       "      <th>0</th>\n",
       "      <td>6.575</td>\n",
       "      <td>4.98</td>\n",
       "      <td>15.3</td>\n",
       "      <td>504000.0</td>\n",
       "    </tr>\n",
       "    <tr>\n",
       "      <th>1</th>\n",
       "      <td>6.421</td>\n",
       "      <td>9.14</td>\n",
       "      <td>17.8</td>\n",
       "      <td>453600.0</td>\n",
       "    </tr>\n",
       "    <tr>\n",
       "      <th>2</th>\n",
       "      <td>7.185</td>\n",
       "      <td>4.03</td>\n",
       "      <td>17.8</td>\n",
       "      <td>728700.0</td>\n",
       "    </tr>\n",
       "    <tr>\n",
       "      <th>3</th>\n",
       "      <td>6.998</td>\n",
       "      <td>2.94</td>\n",
       "      <td>18.7</td>\n",
       "      <td>701400.0</td>\n",
       "    </tr>\n",
       "    <tr>\n",
       "      <th>4</th>\n",
       "      <td>7.147</td>\n",
       "      <td>5.33</td>\n",
       "      <td>18.7</td>\n",
       "      <td>760200.0</td>\n",
       "    </tr>\n",
       "  </tbody>\n",
       "</table>\n",
       "</div>"
      ],
      "text/plain": [
       "      RM  LSTAT  PTRATIO      MEDV\n",
       "0  6.575   4.98     15.3  504000.0\n",
       "1  6.421   9.14     17.8  453600.0\n",
       "2  7.185   4.03     17.8  728700.0\n",
       "3  6.998   2.94     18.7  701400.0\n",
       "4  7.147   5.33     18.7  760200.0"
      ]
     },
     "execution_count": 11,
     "metadata": {},
     "output_type": "execute_result"
    }
   ],
   "source": [
    "data = pd.read_csv('E:\\\\Artificial Intelligence\\\\S\\\\MSIT_ML_CLASS-master\\\\MSIT_ML_CLASS-master\\\\datasets\\\\boston_housing.csv')\n",
    "data.head()"
   ]
  },
  {
   "cell_type": "code",
   "execution_count": 15,
   "metadata": {},
   "outputs": [
    {
     "data": {
      "text/plain": [
       "array([[6.575e+00, 5.040e+05],\n",
       "       [6.421e+00, 4.536e+05],\n",
       "       [7.185e+00, 7.287e+05],\n",
       "       [6.998e+00, 7.014e+05],\n",
       "       [7.147e+00, 7.602e+05],\n",
       "       [6.430e+00, 6.027e+05],\n",
       "       [6.012e+00, 4.809e+05],\n",
       "       [6.172e+00, 5.691e+05],\n",
       "       [5.631e+00, 3.465e+05],\n",
       "       [6.004e+00, 3.969e+05],\n",
       "       [6.377e+00, 3.150e+05],\n",
       "       [6.009e+00, 3.969e+05],\n",
       "       [5.889e+00, 4.557e+05],\n",
       "       [5.949e+00, 4.284e+05],\n",
       "       [6.096e+00, 3.822e+05],\n",
       "       [5.834e+00, 4.179e+05],\n",
       "       [5.935e+00, 4.851e+05],\n",
       "       [5.990e+00, 3.675e+05],\n",
       "       [5.456e+00, 4.242e+05],\n",
       "       [5.727e+00, 3.822e+05]])"
      ]
     },
     "execution_count": 15,
     "metadata": {},
     "output_type": "execute_result"
    }
   ],
   "source": [
    "clean_data = data[['RM','MEDV']].values\n",
    "clean_data[:20]"
   ]
  },
  {
   "cell_type": "code",
   "execution_count": 19,
   "metadata": {},
   "outputs": [
    {
     "data": {
      "image/png": "[encoded data removed]",
      "text/plain": [
       "<Figure size 432x288 with 1 Axes>"
      ]
     },
     "metadata": {},
     "output_type": "display_data"
    }
   ],
   "source": [
    "import matplotlib.pyplot as plt\n",
    "\n",
    "plt.style.use('ggplot')\n",
    "plt.scatter(clean_data[:,0],clean_data[:,1]);"
   ]
  },
  {
   "cell_type": "code",
   "execution_count": 20,
   "metadata": {},
   "outputs": [],
   "source": [
    "def compute_error(m,b,points):\n",
    "    error = 0\n",
    "    for point in points:\n",
    "        x = point[0]\n",
    "        y = point[1]\n",
    "        \n",
    "        error+= (y- (m*x + b))**2\n",
    "        \n",
    "    return error/len(points)"
   ]
  },
  {
   "cell_type": "code",
   "execution_count": 21,
   "metadata": {},
   "outputs": [
    {
     "data": {
      "text/plain": [
       "233709014171.77914"
      ]
     },
     "execution_count": 21,
     "metadata": {},
     "output_type": "execute_result"
    }
   ],
   "source": [
    "compute_error(0,0,clean_data)"
   ]
  },
  {
   "cell_type": "code",
   "execution_count": 22,
   "metadata": {},
   "outputs": [],
   "source": [
    "#get the data\n",
    "def step_gradient(b_current, m_current,points,learningRate):\n",
    "    b_gradient = 0\n",
    "    m_gradient = 0\n",
    "    N = float(len(points))\n",
    "    \n",
    "    for i in range(0,len(points)):\n",
    "        \n",
    "        x = points[i,0]\n",
    "        y = points[i,1]\n",
    "        b_gradient += -(2/N) * (y- ((m_current * x) + b_current))\n",
    "        m_gradient += -(2/N) * x * (y- ((m_current * x) + b_current))\n",
    "        \n",
    "    new_b = b_current - (learningRate * b_gradient)\n",
    "    new_m = b_current - (learningRate * m_gradient)\n",
    "    return [new_b, new_m]"
   ]
  },
  {
   "cell_type": "code",
   "execution_count": 23,
   "metadata": {},
   "outputs": [
    {
     "data": {
      "text/plain": [
       "[90.86858895705524, 581.855422331288]"
      ]
     },
     "execution_count": 23,
     "metadata": {},
     "output_type": "execute_result"
    }
   ],
   "source": [
    "#how to use the function\n",
    "step_gradient(0,0,clean_data, 0.0001)"
   ]
  },
  {
   "cell_type": "code",
   "execution_count": 26,
   "metadata": {},
   "outputs": [
    {
     "name": "stdout",
     "output_type": "stream",
     "text": [
      "We are starting at b =  0 m =  0 start error =  233709014171.77914\n",
      "Ending at b =  62669.14387590533 m =  62765.337007814 error =  19615175262.749245\n"
     ]
    }
   ],
   "source": [
    "points = clean_data\n",
    "\n",
    "learningRate = 0.001\n",
    "initial_b = 0 #initial y-intercept guess\n",
    "initial_m = 0 #initial slope guess\n",
    "num_iterations = 10000\n",
    "\n",
    "b = initial_b\n",
    "m = initial_m\n",
    "\n",
    "first_error = compute_error(m,b,points)\n",
    "print(\"We are starting at b = \",initial_b, \"m = \", initial_m, \"start error = \", first_error)\n",
    "error_list = []\n",
    "\n",
    "for i in range(num_iterations):\n",
    "    \n",
    "    b,m = step_gradient(b,m,points,learningRate)\n",
    "    error_list.append(compute_error(m,b,points))\n",
    "    \n",
    "print(\"Ending at b = \", b, \"m = \",m, \"error = \",error_list[-1])"
   ]
  },
  {
   "cell_type": "code",
   "execution_count": 28,
   "metadata": {},
   "outputs": [
    {
     "data": {
      "image/png": "[encoded data removed]",
      "text/plain": [
       "<Figure size 432x288 with 1 Axes>"
      ]
     },
     "metadata": {},
     "output_type": "display_data"
    }
   ],
   "source": [
    "plt.plot(error_list);"
   ]
  },
  {
   "cell_type": "code",
   "execution_count": 30,
   "metadata": {},
   "outputs": [
    {
     "name": "stdout",
     "output_type": "stream",
     "text": [
      "[1 2 3 4 5 6 7 8 9]\n",
      "[125434.48088372 188199.81789153 250965.15489935 313730.49190716\n",
      " 376495.82891498 439261.16592279 502026.5029306  564791.83993842\n",
      " 627557.17694623]\n"
     ]
    }
   ],
   "source": [
    "x = np.arange(1,10)\n",
    "y = m*x + b\n",
    "print(x)\n",
    "print(y)"
   ]
  },
  {
   "cell_type": "code",
   "execution_count": 31,
   "metadata": {},
   "outputs": [
    {
     "data": {
      "image/png": "[encoded data removed]",
      "text/plain": [
       "<Figure size 432x288 with 1 Axes>"
      ]
     },
     "metadata": {},
     "output_type": "display_data"
    }
   ],
   "source": [
    "plt.scatter(clean_data[:,0],clean_data[:,1])\n",
    "\n",
    "plt.plot(x,y,c=\"g\");"
   ]
  },
  {
   "cell_type": "code",
   "execution_count": null,
   "metadata": {},
   "outputs": [],
   "source": []
  },
  {
   "cell_type": "code",
   "execution_count": null,
   "metadata": {},
   "outputs": [],
   "source": []
  }
 ],
 "metadata": {
  "kernelspec": {
   "display_name": "Python 3",
   "language": "python",
   "name": "python3"
  },
  "language_info": {
   "codemirror_mode": {
    "name": "ipython",
    "version": 3
   },
   "file_extension": ".py",
   "mimetype": "text/x-python",
   "name": "python",
   "nbconvert_exporter": "python",
   "pygments_lexer": "ipython3",
   "version": "3.8.3"
  }
 },
 "nbformat": 4,
 "nbformat_minor": 4
}
